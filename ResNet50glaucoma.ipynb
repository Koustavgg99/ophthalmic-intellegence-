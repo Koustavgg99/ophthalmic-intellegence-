{
 "cells": [
  {
   "cell_type": "code",
   "execution_count": null,
   "metadata": {
    "id": "sVJcfkXW5u-j"
   },
   "outputs": [],
   "source": [
    "import numpy as np\n",
    "import matplotlib.pyplot as plt\n",
    "from keras.preprocessing.image import ImageDataGenerator\n",
    "from keras.applications import ResNet50\n",
    "from keras.models import Sequential\n",
    "from keras.layers import Dense, GlobalAveragePooling2D\n",
    "from keras.optimizers import Adam"
   ]
  },
  {
   "cell_type": "code",
   "execution_count": null,
   "metadata": {
    "id": "lrdpAYfs6W8e"
   },
   "outputs": [],
   "source": [
    "# Define paths to your dataset\n",
    "train_data_dir = '/content/drive/MyDrive/Glaucoma annoted/training'\n",
    "test_data_dir = '/content/drive/MyDrive/Glaucoma annoted/validation'"
   ]
  },
  {
   "cell_type": "code",
   "execution_count": null,
   "metadata": {
    "id": "lMskdQxBbdKq"
   },
   "outputs": [],
   "source": []
  },
  {
   "cell_type": "code",
   "execution_count": null,
   "metadata": {
    "colab": {
     "base_uri": "https://localhost:8080/"
    },
    "id": "dbf1Pg_A6dqE",
    "outputId": "32404dd6-c714-49f7-e5b5-0433f1a0bebd"
   },
   "outputs": [
    {
     "name": "stdout",
     "output_type": "stream",
     "text": [
      "Batch size: 16\n"
     ]
    }
   ],
   "source": [
    "# Define batch size and number of epochs\n",
    "batch_size = 16\n",
    "epochs = 150\n",
    "input_shape = (224, 224)  # Assuming images are resized to 224x224\n",
    "\n",
    "\n",
    "print(f\"Batch size: {batch_size}\")"
   ]
  },
  {
   "cell_type": "code",
   "execution_count": null,
   "metadata": {
    "id": "bB06iILa6hKx"
   },
   "outputs": [],
   "source": [
    "# Data Augmentation and Image Preprocessing\n",
    "train_datagen = ImageDataGenerator(\n",
    "    rescale=1./255,\n",
    "    rotation_range=20,\n",
    "    width_shift_range=0.2,\n",
    "    height_shift_range=0.2,\n",
    "    shear_range=0.2,\n",
    "    zoom_range=0.2,\n",
    "    horizontal_flip=True\n",
    ")"
   ]
  },
  {
   "cell_type": "code",
   "execution_count": null,
   "metadata": {
    "id": "8Uu-BT1iSRmE"
   },
   "outputs": [],
   "source": []
  },
  {
   "cell_type": "code",
   "execution_count": null,
   "metadata": {
    "colab": {
     "base_uri": "https://localhost:8080/"
    },
    "id": "zBQyNVeK6lVG",
    "outputId": "348768be-1c5e-4661-b7af-77a730975c30"
   },
   "outputs": [
    {
     "name": "stdout",
     "output_type": "stream",
     "text": [
      "Found 735 images belonging to 2 classes.\n"
     ]
    }
   ],
   "source": [
    "test_datagen = ImageDataGenerator(rescale=1./255)\n",
    "\n",
    "# Flow training images in batches using train_datagen generator\n",
    "train_generator = train_datagen.flow_from_directory(\n",
    "    train_data_dir,\n",
    "    target_size=input_shape,\n",
    "    batch_size=batch_size,\n",
    "    class_mode='binary'  # Since we use binary_crossentropy loss\n",
    ")"
   ]
  },
  {
   "cell_type": "code",
   "execution_count": null,
   "metadata": {
    "colab": {
     "base_uri": "https://localhost:8080/"
    },
    "id": "wMQYRwBM6q1H",
    "outputId": "6bd31e6f-3584-43f0-b4e6-befd8ddfe55c"
   },
   "outputs": [
    {
     "name": "stdout",
     "output_type": "stream",
     "text": [
      "Found 116 images belonging to 2 classes.\n"
     ]
    }
   ],
   "source": [
    "# Flow validation images in batches using test_datagen generator\n",
    "validation_generator = test_datagen.flow_from_directory(\n",
    "    test_data_dir,\n",
    "    target_size=input_shape,\n",
    "    batch_size=batch_size,\n",
    "    class_mode='binary'\n",
    ")"
   ]
  },
  {
   "cell_type": "code",
   "execution_count": null,
   "metadata": {
    "colab": {
     "base_uri": "https://localhost:8080/"
    },
    "id": "Vbg-g7dU6uRm",
    "outputId": "751fe12e-4d3a-4cba-bcaf-494b6b4113b3"
   },
   "outputs": [
    {
     "name": "stdout",
     "output_type": "stream",
     "text": [
      "Downloading data from https://storage.googleapis.com/tensorflow/keras-applications/resnet/resnet50_weights_tf_dim_ordering_tf_kernels_notop.h5\n",
      "94765736/94765736 [==============================] - 1s 0us/step\n"
     ]
    }
   ],
   "source": [
    "# Load pre-trained ResNet50 model\n",
    "base_model = ResNet50(weights='imagenet', include_top=False, input_shape=(224, 224, 3))\n",
    "\n",
    "# Freeze all layers in the base model\n",
    "for layer in base_model.layers:\n",
    "    layer.trainable = False"
   ]
  },
  {
   "cell_type": "code",
   "execution_count": null,
   "metadata": {
    "colab": {
     "base_uri": "https://localhost:8080/"
    },
    "id": "VMmimAYjTNuJ",
    "outputId": "1b7eaeb3-2e95-4197-a4ce-18f99388f3d6"
   },
   "outputs": [
    {
     "name": "stdout",
     "output_type": "stream",
     "text": [
      "Number of samples in training data: 735\n",
      "Batch size: 16\n"
     ]
    }
   ],
   "source": [
    "print(f\"Number of samples in training data: {train_generator.samples}\")\n",
    "print(f\"Batch size: {batch_size}\")"
   ]
  },
  {
   "cell_type": "code",
   "execution_count": null,
   "metadata": {
    "colab": {
     "base_uri": "https://localhost:8080/"
    },
    "id": "lCFwZtrRQzVr",
    "outputId": "3dadcd77-9187-44de-aa39-c72caf2f1932"
   },
   "outputs": [
    {
     "name": "stdout",
     "output_type": "stream",
     "text": [
      "Total training samples: 735\n",
      "Total validation samples: 116\n"
     ]
    }
   ],
   "source": [
    "\n",
    "# Calculate the total data count for training and validation datasets\n",
    "total_train_samples = train_generator.samples\n",
    "total_validation_samples = validation_generator.samples\n",
    "\n",
    "print(f\"Total training samples: {total_train_samples}\")\n",
    "print(f\"Total validation samples: {total_validation_samples}\")"
   ]
  },
  {
   "cell_type": "code",
   "execution_count": null,
   "metadata": {
    "colab": {
     "base_uri": "https://localhost:8080/"
    },
    "id": "VxlVZfuP67me",
    "outputId": "4f537d23-7143-44c9-ff03-ea4010d0c60d"
   },
   "outputs": [
    {
     "name": "stderr",
     "output_type": "stream",
     "text": [
      "WARNING:absl:`lr` is deprecated in Keras optimizer, please use `learning_rate` or use the legacy optimizer, e.g.,tf.keras.optimizers.legacy.Adam.\n"
     ]
    }
   ],
   "source": [
    "# Add custom layers on top of ResNet50\n",
    "model = Sequential()\n",
    "model.add(base_model)\n",
    "model.add(GlobalAveragePooling2D())\n",
    "model.add(Dense(256, activation='relu'))\n",
    "model.add(Dense(1, activation='sigmoid'))\n",
    "\n",
    "# Compile the model\n",
    "model.compile(optimizer=Adam(lr=0.001), loss='binary_crossentropy', metrics=['accuracy'])"
   ]
  },
  {
   "cell_type": "code",
   "execution_count": null,
   "metadata": {
    "colab": {
     "base_uri": "https://localhost:8080/",
     "height": 1000
    },
    "id": "y-8NtVYs7GC4",
    "outputId": "9f9069c5-e1bb-4641-a2e4-58e74ded3522"
   },
   "outputs": [
    {
     "name": "stdout",
     "output_type": "stream",
     "text": [
      "Epoch 1/150\n",
      "10/10 [==============================] - 82s 8s/step - loss: 1.0111 - accuracy: 0.5625 - val_loss: 0.6937 - val_accuracy: 0.5690\n",
      "Epoch 2/150\n",
      "10/10 [==============================] - 57s 6s/step - loss: 0.6988 - accuracy: 0.6062 - val_loss: 0.6489 - val_accuracy: 0.5690\n",
      "Epoch 3/150\n",
      "10/10 [==============================] - 59s 6s/step - loss: 0.6807 - accuracy: 0.5688 - val_loss: 0.6422 - val_accuracy: 0.8103\n",
      "Epoch 4/150\n",
      "10/10 [==============================] - 76s 8s/step - loss: 0.6700 - accuracy: 0.6062 - val_loss: 0.6358 - val_accuracy: 0.6638\n",
      "Epoch 5/150\n",
      "10/10 [==============================] - 57s 6s/step - loss: 0.6661 - accuracy: 0.5472 - val_loss: 0.5979 - val_accuracy: 0.8879\n",
      "Epoch 6/150\n",
      "10/10 [==============================] - 60s 6s/step - loss: 0.6447 - accuracy: 0.5849 - val_loss: 0.6278 - val_accuracy: 0.5948\n",
      "Epoch 7/150\n",
      "10/10 [==============================] - 59s 6s/step - loss: 0.6037 - accuracy: 0.7233 - val_loss: 0.6354 - val_accuracy: 0.5690\n",
      "Epoch 8/150\n",
      "10/10 [==============================] - 76s 8s/step - loss: 0.6379 - accuracy: 0.5912 - val_loss: 0.5406 - val_accuracy: 0.8879\n",
      "Epoch 9/150\n",
      "10/10 [==============================] - 59s 6s/step - loss: 0.5892 - accuracy: 0.8000 - val_loss: 0.5477 - val_accuracy: 0.7931\n",
      "Epoch 10/150\n",
      "10/10 [==============================] - 59s 6s/step - loss: 0.6054 - accuracy: 0.6812 - val_loss: 0.5051 - val_accuracy: 0.9569\n",
      "Epoch 11/150\n",
      "10/10 [==============================] - 58s 6s/step - loss: 0.6078 - accuracy: 0.6562 - val_loss: 0.6304 - val_accuracy: 0.5690\n",
      "Epoch 12/150\n",
      "10/10 [==============================] - 57s 6s/step - loss: 0.6001 - accuracy: 0.6625 - val_loss: 0.4779 - val_accuracy: 0.9655\n",
      "Epoch 13/150\n",
      "10/10 [==============================] - 58s 6s/step - loss: 0.5588 - accuracy: 0.8250 - val_loss: 0.4641 - val_accuracy: 0.9483\n",
      "Epoch 14/150\n",
      "10/10 [==============================] - 76s 8s/step - loss: 0.5609 - accuracy: 0.7250 - val_loss: 0.4519 - val_accuracy: 0.8879\n",
      "Epoch 15/150\n",
      "10/10 [==============================] - 76s 8s/step - loss: 0.5252 - accuracy: 0.8188 - val_loss: 0.4389 - val_accuracy: 0.8879\n",
      "Epoch 16/150\n",
      "10/10 [==============================] - 65s 7s/step - loss: 0.5221 - accuracy: 0.7437 - val_loss: 0.4402 - val_accuracy: 0.9052\n",
      "Epoch 17/150\n",
      "10/10 [==============================] - 75s 8s/step - loss: 0.5377 - accuracy: 0.6938 - val_loss: 0.5615 - val_accuracy: 0.5690\n",
      "Epoch 18/150\n",
      "10/10 [==============================] - 58s 6s/step - loss: 0.5469 - accuracy: 0.6750 - val_loss: 0.5057 - val_accuracy: 0.5690\n",
      "Epoch 19/150\n",
      "10/10 [==============================] - 75s 8s/step - loss: 0.5752 - accuracy: 0.6687 - val_loss: 0.4182 - val_accuracy: 0.8362\n",
      "Epoch 20/150\n",
      "10/10 [==============================] - 58s 6s/step - loss: 0.5009 - accuracy: 0.7625 - val_loss: 0.3841 - val_accuracy: 0.8879\n",
      "Epoch 21/150\n",
      "10/10 [==============================] - 75s 8s/step - loss: 0.4853 - accuracy: 0.9057 - val_loss: 0.3800 - val_accuracy: 0.9655\n",
      "Epoch 22/150\n",
      "10/10 [==============================] - 57s 6s/step - loss: 0.4858 - accuracy: 0.8438 - val_loss: 0.3687 - val_accuracy: 0.9483\n",
      "Epoch 23/150\n",
      "10/10 [==============================] - 58s 6s/step - loss: 0.5093 - accuracy: 0.7812 - val_loss: 0.3627 - val_accuracy: 0.8879\n",
      "Epoch 24/150\n",
      "10/10 [==============================] - 58s 6s/step - loss: 0.4830 - accuracy: 0.8250 - val_loss: 0.3460 - val_accuracy: 0.8966\n",
      "Epoch 25/150\n",
      "10/10 [==============================] - 58s 6s/step - loss: 0.4605 - accuracy: 0.8562 - val_loss: 0.3702 - val_accuracy: 0.9483\n",
      "Epoch 26/150\n",
      "10/10 [==============================] - 75s 8s/step - loss: 0.4658 - accuracy: 0.7688 - val_loss: 0.3871 - val_accuracy: 0.8017\n",
      "Epoch 27/150\n",
      "10/10 [==============================] - 58s 6s/step - loss: 0.4745 - accuracy: 0.7750 - val_loss: 0.3227 - val_accuracy: 0.9224\n",
      "Epoch 28/150\n",
      "10/10 [==============================] - 75s 8s/step - loss: 0.4932 - accuracy: 0.7312 - val_loss: 0.3437 - val_accuracy: 0.8448\n",
      "Epoch 29/150\n",
      "10/10 [==============================] - 58s 6s/step - loss: 0.4598 - accuracy: 0.8250 - val_loss: 0.3162 - val_accuracy: 0.9483\n",
      "Epoch 30/150\n",
      "10/10 [==============================] - 56s 6s/step - loss: 0.3940 - accuracy: 0.8750 - val_loss: 0.3039 - val_accuracy: 0.9483\n",
      "Epoch 31/150\n",
      "10/10 [==============================] - 55s 6s/step - loss: 0.4172 - accuracy: 0.8375 - val_loss: 0.2971 - val_accuracy: 0.8879\n",
      "Epoch 32/150\n",
      "10/10 [==============================] - 56s 6s/step - loss: 0.4306 - accuracy: 0.8438 - val_loss: 0.2905 - val_accuracy: 0.8879\n",
      "Epoch 33/150\n",
      "10/10 [==============================] - 58s 6s/step - loss: 0.4171 - accuracy: 0.8625 - val_loss: 0.3090 - val_accuracy: 0.9741\n",
      "Epoch 34/150\n",
      "10/10 [==============================] - 57s 6s/step - loss: 0.3883 - accuracy: 0.9187 - val_loss: 0.2764 - val_accuracy: 0.9224\n",
      "Epoch 35/150\n",
      "10/10 [==============================] - 57s 6s/step - loss: 0.4684 - accuracy: 0.7125 - val_loss: 0.2896 - val_accuracy: 0.9655\n",
      "Epoch 36/150\n",
      "10/10 [==============================] - 57s 6s/step - loss: 0.3997 - accuracy: 0.8687 - val_loss: 0.2844 - val_accuracy: 0.8879\n",
      "Epoch 37/150\n",
      "10/10 [==============================] - 74s 8s/step - loss: 0.3413 - accuracy: 0.8938 - val_loss: 0.2657 - val_accuracy: 0.9569\n",
      "Epoch 38/150\n",
      "10/10 [==============================] - 57s 6s/step - loss: 0.4008 - accuracy: 0.8438 - val_loss: 0.2872 - val_accuracy: 0.9655\n",
      "Epoch 39/150\n",
      "10/10 [==============================] - 57s 6s/step - loss: 0.4026 - accuracy: 0.8875 - val_loss: 0.2776 - val_accuracy: 0.9741\n",
      "Epoch 40/150\n",
      "10/10 [==============================] - 75s 8s/step - loss: 0.3651 - accuracy: 0.8313 - val_loss: 0.2450 - val_accuracy: 0.8966\n",
      "Epoch 41/150\n",
      "10/10 [==============================] - 63s 7s/step - loss: 0.3750 - accuracy: 0.8687 - val_loss: 0.2395 - val_accuracy: 0.8966\n",
      "Epoch 42/150\n",
      "10/10 [==============================] - 57s 6s/step - loss: 0.3451 - accuracy: 0.8375 - val_loss: 0.2595 - val_accuracy: 0.9741\n",
      "Epoch 43/150\n",
      "10/10 [==============================] - 74s 8s/step - loss: 0.3648 - accuracy: 0.8813 - val_loss: 0.3322 - val_accuracy: 0.8621\n",
      "Epoch 44/150\n",
      "10/10 [==============================] - 57s 6s/step - loss: 0.4157 - accuracy: 0.8125 - val_loss: 0.3853 - val_accuracy: 0.6724\n",
      "Epoch 45/150\n",
      "10/10 [==============================] - 74s 8s/step - loss: 0.4095 - accuracy: 0.7925 - val_loss: 0.2860 - val_accuracy: 0.9569\n",
      "Epoch 46/150\n",
      "10/10 [==============================] - 74s 8s/step - loss: 0.3730 - accuracy: 0.8062 - val_loss: 0.2289 - val_accuracy: 0.9655\n",
      "Epoch 47/150\n",
      "10/10 [==============================] - 57s 6s/step - loss: 0.3444 - accuracy: 0.8375 - val_loss: 0.3741 - val_accuracy: 0.6897\n",
      "Epoch 48/150\n",
      "10/10 [==============================] - 57s 6s/step - loss: 0.3327 - accuracy: 0.8813 - val_loss: 0.2371 - val_accuracy: 0.9741\n",
      "Epoch 49/150\n",
      "10/10 [==============================] - 56s 6s/step - loss: 0.3160 - accuracy: 0.8994 - val_loss: 0.2102 - val_accuracy: 0.9569\n",
      "Epoch 50/150\n",
      "10/10 [==============================] - 61s 6s/step - loss: 0.3495 - accuracy: 0.8562 - val_loss: 0.2234 - val_accuracy: 0.9655\n",
      "Epoch 51/150\n",
      "10/10 [==============================] - 57s 6s/step - loss: 0.3360 - accuracy: 0.8687 - val_loss: 0.2357 - val_accuracy: 0.9741\n",
      "Epoch 52/150\n",
      "10/10 [==============================] - 74s 8s/step - loss: 0.3548 - accuracy: 0.8687 - val_loss: 0.2798 - val_accuracy: 0.9569\n",
      "Epoch 53/150\n",
      "10/10 [==============================] - 57s 6s/step - loss: 0.3489 - accuracy: 0.8750 - val_loss: 0.2300 - val_accuracy: 0.9741\n",
      "Epoch 54/150\n",
      "10/10 [==============================] - 57s 6s/step - loss: 0.3363 - accuracy: 0.8687 - val_loss: 0.2672 - val_accuracy: 0.9569\n",
      "Epoch 55/150\n",
      "10/10 [==============================] - 58s 6s/step - loss: 0.3238 - accuracy: 0.8938 - val_loss: 0.2507 - val_accuracy: 0.9569\n",
      "Epoch 56/150\n",
      "10/10 [==============================] - 75s 8s/step - loss: 0.4523 - accuracy: 0.7500 - val_loss: 0.1911 - val_accuracy: 0.9741\n",
      "Epoch 57/150\n",
      "10/10 [==============================] - 75s 8s/step - loss: 0.3529 - accuracy: 0.7812 - val_loss: 0.2172 - val_accuracy: 0.9741\n",
      "Epoch 58/150\n",
      " 2/10 [=====>........................] - ETA: 33s - loss: 0.3099 - accuracy: 0.9375"
     ]
    },
    {
     "ename": "KeyboardInterrupt",
     "evalue": "",
     "output_type": "error",
     "traceback": [
      "\u001b[0;31m---------------------------------------------------------------------------\u001b[0m",
      "\u001b[0;31mKeyboardInterrupt\u001b[0m                         Traceback (most recent call last)",
      "\u001b[0;32m<ipython-input-14-4e117bdc2e6d>\u001b[0m in \u001b[0;36m<cell line: 1>\u001b[0;34m()\u001b[0m\n\u001b[0;32m----> 1\u001b[0;31m history = model.fit(\n\u001b[0m\u001b[1;32m      2\u001b[0m     \u001b[0mtrain_generator\u001b[0m\u001b[0;34m,\u001b[0m\u001b[0;34m\u001b[0m\u001b[0;34m\u001b[0m\u001b[0m\n\u001b[1;32m      3\u001b[0m     \u001b[0msteps_per_epoch\u001b[0m\u001b[0;34m=\u001b[0m\u001b[0;36m10\u001b[0m\u001b[0;34m,\u001b[0m\u001b[0;34m\u001b[0m\u001b[0;34m\u001b[0m\u001b[0m\n\u001b[1;32m      4\u001b[0m     \u001b[0mepochs\u001b[0m\u001b[0;34m=\u001b[0m\u001b[0mepochs\u001b[0m\u001b[0;34m,\u001b[0m\u001b[0;34m\u001b[0m\u001b[0;34m\u001b[0m\u001b[0m\n\u001b[1;32m      5\u001b[0m     \u001b[0mvalidation_data\u001b[0m\u001b[0;34m=\u001b[0m\u001b[0mvalidation_generator\u001b[0m\u001b[0;34m\u001b[0m\u001b[0;34m\u001b[0m\u001b[0m\n",
      "\u001b[0;32m/usr/local/lib/python3.10/dist-packages/keras/src/utils/traceback_utils.py\u001b[0m in \u001b[0;36merror_handler\u001b[0;34m(*args, **kwargs)\u001b[0m\n\u001b[1;32m     63\u001b[0m         \u001b[0mfiltered_tb\u001b[0m \u001b[0;34m=\u001b[0m \u001b[0;32mNone\u001b[0m\u001b[0;34m\u001b[0m\u001b[0;34m\u001b[0m\u001b[0m\n\u001b[1;32m     64\u001b[0m         \u001b[0;32mtry\u001b[0m\u001b[0;34m:\u001b[0m\u001b[0;34m\u001b[0m\u001b[0;34m\u001b[0m\u001b[0m\n\u001b[0;32m---> 65\u001b[0;31m             \u001b[0;32mreturn\u001b[0m \u001b[0mfn\u001b[0m\u001b[0;34m(\u001b[0m\u001b[0;34m*\u001b[0m\u001b[0margs\u001b[0m\u001b[0;34m,\u001b[0m \u001b[0;34m**\u001b[0m\u001b[0mkwargs\u001b[0m\u001b[0;34m)\u001b[0m\u001b[0;34m\u001b[0m\u001b[0;34m\u001b[0m\u001b[0m\n\u001b[0m\u001b[1;32m     66\u001b[0m         \u001b[0;32mexcept\u001b[0m \u001b[0mException\u001b[0m \u001b[0;32mas\u001b[0m \u001b[0me\u001b[0m\u001b[0;34m:\u001b[0m\u001b[0;34m\u001b[0m\u001b[0;34m\u001b[0m\u001b[0m\n\u001b[1;32m     67\u001b[0m             \u001b[0mfiltered_tb\u001b[0m \u001b[0;34m=\u001b[0m \u001b[0m_process_traceback_frames\u001b[0m\u001b[0;34m(\u001b[0m\u001b[0me\u001b[0m\u001b[0;34m.\u001b[0m\u001b[0m__traceback__\u001b[0m\u001b[0;34m)\u001b[0m\u001b[0;34m\u001b[0m\u001b[0;34m\u001b[0m\u001b[0m\n",
      "\u001b[0;32m/usr/local/lib/python3.10/dist-packages/keras/src/engine/training.py\u001b[0m in \u001b[0;36mfit\u001b[0;34m(self, x, y, batch_size, epochs, verbose, callbacks, validation_split, validation_data, shuffle, class_weight, sample_weight, initial_epoch, steps_per_epoch, validation_steps, validation_batch_size, validation_freq, max_queue_size, workers, use_multiprocessing)\u001b[0m\n\u001b[1;32m   1805\u001b[0m                         ):\n\u001b[1;32m   1806\u001b[0m                             \u001b[0mcallbacks\u001b[0m\u001b[0;34m.\u001b[0m\u001b[0mon_train_batch_begin\u001b[0m\u001b[0;34m(\u001b[0m\u001b[0mstep\u001b[0m\u001b[0;34m)\u001b[0m\u001b[0;34m\u001b[0m\u001b[0;34m\u001b[0m\u001b[0m\n\u001b[0;32m-> 1807\u001b[0;31m                             \u001b[0mtmp_logs\u001b[0m \u001b[0;34m=\u001b[0m \u001b[0mself\u001b[0m\u001b[0;34m.\u001b[0m\u001b[0mtrain_function\u001b[0m\u001b[0;34m(\u001b[0m\u001b[0miterator\u001b[0m\u001b[0;34m)\u001b[0m\u001b[0;34m\u001b[0m\u001b[0;34m\u001b[0m\u001b[0m\n\u001b[0m\u001b[1;32m   1808\u001b[0m                             \u001b[0;32mif\u001b[0m \u001b[0mdata_handler\u001b[0m\u001b[0;34m.\u001b[0m\u001b[0mshould_sync\u001b[0m\u001b[0;34m:\u001b[0m\u001b[0;34m\u001b[0m\u001b[0;34m\u001b[0m\u001b[0m\n\u001b[1;32m   1809\u001b[0m                                 \u001b[0mcontext\u001b[0m\u001b[0;34m.\u001b[0m\u001b[0masync_wait\u001b[0m\u001b[0;34m(\u001b[0m\u001b[0;34m)\u001b[0m\u001b[0;34m\u001b[0m\u001b[0;34m\u001b[0m\u001b[0m\n",
      "\u001b[0;32m/usr/local/lib/python3.10/dist-packages/tensorflow/python/util/traceback_utils.py\u001b[0m in \u001b[0;36merror_handler\u001b[0;34m(*args, **kwargs)\u001b[0m\n\u001b[1;32m    148\u001b[0m     \u001b[0mfiltered_tb\u001b[0m \u001b[0;34m=\u001b[0m \u001b[0;32mNone\u001b[0m\u001b[0;34m\u001b[0m\u001b[0;34m\u001b[0m\u001b[0m\n\u001b[1;32m    149\u001b[0m     \u001b[0;32mtry\u001b[0m\u001b[0;34m:\u001b[0m\u001b[0;34m\u001b[0m\u001b[0;34m\u001b[0m\u001b[0m\n\u001b[0;32m--> 150\u001b[0;31m       \u001b[0;32mreturn\u001b[0m \u001b[0mfn\u001b[0m\u001b[0;34m(\u001b[0m\u001b[0;34m*\u001b[0m\u001b[0margs\u001b[0m\u001b[0;34m,\u001b[0m \u001b[0;34m**\u001b[0m\u001b[0mkwargs\u001b[0m\u001b[0;34m)\u001b[0m\u001b[0;34m\u001b[0m\u001b[0;34m\u001b[0m\u001b[0m\n\u001b[0m\u001b[1;32m    151\u001b[0m     \u001b[0;32mexcept\u001b[0m \u001b[0mException\u001b[0m \u001b[0;32mas\u001b[0m \u001b[0me\u001b[0m\u001b[0;34m:\u001b[0m\u001b[0;34m\u001b[0m\u001b[0;34m\u001b[0m\u001b[0m\n\u001b[1;32m    152\u001b[0m       \u001b[0mfiltered_tb\u001b[0m \u001b[0;34m=\u001b[0m \u001b[0m_process_traceback_frames\u001b[0m\u001b[0;34m(\u001b[0m\u001b[0me\u001b[0m\u001b[0;34m.\u001b[0m\u001b[0m__traceback__\u001b[0m\u001b[0;34m)\u001b[0m\u001b[0;34m\u001b[0m\u001b[0;34m\u001b[0m\u001b[0m\n",
      "\u001b[0;32m/usr/local/lib/python3.10/dist-packages/tensorflow/python/eager/polymorphic_function/polymorphic_function.py\u001b[0m in \u001b[0;36m__call__\u001b[0;34m(self, *args, **kwds)\u001b[0m\n\u001b[1;32m    830\u001b[0m \u001b[0;34m\u001b[0m\u001b[0m\n\u001b[1;32m    831\u001b[0m       \u001b[0;32mwith\u001b[0m \u001b[0mOptionalXlaContext\u001b[0m\u001b[0;34m(\u001b[0m\u001b[0mself\u001b[0m\u001b[0;34m.\u001b[0m\u001b[0m_jit_compile\u001b[0m\u001b[0;34m)\u001b[0m\u001b[0;34m:\u001b[0m\u001b[0;34m\u001b[0m\u001b[0;34m\u001b[0m\u001b[0m\n\u001b[0;32m--> 832\u001b[0;31m         \u001b[0mresult\u001b[0m \u001b[0;34m=\u001b[0m \u001b[0mself\u001b[0m\u001b[0;34m.\u001b[0m\u001b[0m_call\u001b[0m\u001b[0;34m(\u001b[0m\u001b[0;34m*\u001b[0m\u001b[0margs\u001b[0m\u001b[0;34m,\u001b[0m \u001b[0;34m**\u001b[0m\u001b[0mkwds\u001b[0m\u001b[0;34m)\u001b[0m\u001b[0;34m\u001b[0m\u001b[0;34m\u001b[0m\u001b[0m\n\u001b[0m\u001b[1;32m    833\u001b[0m \u001b[0;34m\u001b[0m\u001b[0m\n\u001b[1;32m    834\u001b[0m       \u001b[0mnew_tracing_count\u001b[0m \u001b[0;34m=\u001b[0m \u001b[0mself\u001b[0m\u001b[0;34m.\u001b[0m\u001b[0mexperimental_get_tracing_count\u001b[0m\u001b[0;34m(\u001b[0m\u001b[0;34m)\u001b[0m\u001b[0;34m\u001b[0m\u001b[0;34m\u001b[0m\u001b[0m\n",
      "\u001b[0;32m/usr/local/lib/python3.10/dist-packages/tensorflow/python/eager/polymorphic_function/polymorphic_function.py\u001b[0m in \u001b[0;36m_call\u001b[0;34m(self, *args, **kwds)\u001b[0m\n\u001b[1;32m    866\u001b[0m       \u001b[0;31m# In this case we have created variables on the first call, so we run the\u001b[0m\u001b[0;34m\u001b[0m\u001b[0;34m\u001b[0m\u001b[0m\n\u001b[1;32m    867\u001b[0m       \u001b[0;31m# defunned version which is guaranteed to never create variables.\u001b[0m\u001b[0;34m\u001b[0m\u001b[0;34m\u001b[0m\u001b[0m\n\u001b[0;32m--> 868\u001b[0;31m       return tracing_compilation.call_function(\n\u001b[0m\u001b[1;32m    869\u001b[0m           \u001b[0margs\u001b[0m\u001b[0;34m,\u001b[0m \u001b[0mkwds\u001b[0m\u001b[0;34m,\u001b[0m \u001b[0mself\u001b[0m\u001b[0;34m.\u001b[0m\u001b[0m_no_variable_creation_config\u001b[0m\u001b[0;34m\u001b[0m\u001b[0;34m\u001b[0m\u001b[0m\n\u001b[1;32m    870\u001b[0m       )\n",
      "\u001b[0;32m/usr/local/lib/python3.10/dist-packages/tensorflow/python/eager/polymorphic_function/tracing_compilation.py\u001b[0m in \u001b[0;36mcall_function\u001b[0;34m(args, kwargs, tracing_options)\u001b[0m\n\u001b[1;32m    137\u001b[0m   \u001b[0mbound_args\u001b[0m \u001b[0;34m=\u001b[0m \u001b[0mfunction\u001b[0m\u001b[0;34m.\u001b[0m\u001b[0mfunction_type\u001b[0m\u001b[0;34m.\u001b[0m\u001b[0mbind\u001b[0m\u001b[0;34m(\u001b[0m\u001b[0;34m*\u001b[0m\u001b[0margs\u001b[0m\u001b[0;34m,\u001b[0m \u001b[0;34m**\u001b[0m\u001b[0mkwargs\u001b[0m\u001b[0;34m)\u001b[0m\u001b[0;34m\u001b[0m\u001b[0;34m\u001b[0m\u001b[0m\n\u001b[1;32m    138\u001b[0m   \u001b[0mflat_inputs\u001b[0m \u001b[0;34m=\u001b[0m \u001b[0mfunction\u001b[0m\u001b[0;34m.\u001b[0m\u001b[0mfunction_type\u001b[0m\u001b[0;34m.\u001b[0m\u001b[0munpack_inputs\u001b[0m\u001b[0;34m(\u001b[0m\u001b[0mbound_args\u001b[0m\u001b[0;34m)\u001b[0m\u001b[0;34m\u001b[0m\u001b[0;34m\u001b[0m\u001b[0m\n\u001b[0;32m--> 139\u001b[0;31m   return function._call_flat(  # pylint: disable=protected-access\n\u001b[0m\u001b[1;32m    140\u001b[0m       \u001b[0mflat_inputs\u001b[0m\u001b[0;34m,\u001b[0m \u001b[0mcaptured_inputs\u001b[0m\u001b[0;34m=\u001b[0m\u001b[0mfunction\u001b[0m\u001b[0;34m.\u001b[0m\u001b[0mcaptured_inputs\u001b[0m\u001b[0;34m\u001b[0m\u001b[0;34m\u001b[0m\u001b[0m\n\u001b[1;32m    141\u001b[0m   )\n",
      "\u001b[0;32m/usr/local/lib/python3.10/dist-packages/tensorflow/python/eager/polymorphic_function/concrete_function.py\u001b[0m in \u001b[0;36m_call_flat\u001b[0;34m(self, tensor_inputs, captured_inputs)\u001b[0m\n\u001b[1;32m   1321\u001b[0m         and executing_eagerly):\n\u001b[1;32m   1322\u001b[0m       \u001b[0;31m# No tape is watching; skip to running the function.\u001b[0m\u001b[0;34m\u001b[0m\u001b[0;34m\u001b[0m\u001b[0m\n\u001b[0;32m-> 1323\u001b[0;31m       \u001b[0;32mreturn\u001b[0m \u001b[0mself\u001b[0m\u001b[0;34m.\u001b[0m\u001b[0m_inference_function\u001b[0m\u001b[0;34m.\u001b[0m\u001b[0mcall_preflattened\u001b[0m\u001b[0;34m(\u001b[0m\u001b[0margs\u001b[0m\u001b[0;34m)\u001b[0m\u001b[0;34m\u001b[0m\u001b[0;34m\u001b[0m\u001b[0m\n\u001b[0m\u001b[1;32m   1324\u001b[0m     forward_backward = self._select_forward_and_backward_functions(\n\u001b[1;32m   1325\u001b[0m         \u001b[0margs\u001b[0m\u001b[0;34m,\u001b[0m\u001b[0;34m\u001b[0m\u001b[0;34m\u001b[0m\u001b[0m\n",
      "\u001b[0;32m/usr/local/lib/python3.10/dist-packages/tensorflow/python/eager/polymorphic_function/atomic_function.py\u001b[0m in \u001b[0;36mcall_preflattened\u001b[0;34m(self, args)\u001b[0m\n\u001b[1;32m    214\u001b[0m   \u001b[0;32mdef\u001b[0m \u001b[0mcall_preflattened\u001b[0m\u001b[0;34m(\u001b[0m\u001b[0mself\u001b[0m\u001b[0;34m,\u001b[0m \u001b[0margs\u001b[0m\u001b[0;34m:\u001b[0m \u001b[0mSequence\u001b[0m\u001b[0;34m[\u001b[0m\u001b[0mcore\u001b[0m\u001b[0;34m.\u001b[0m\u001b[0mTensor\u001b[0m\u001b[0;34m]\u001b[0m\u001b[0;34m)\u001b[0m \u001b[0;34m->\u001b[0m \u001b[0mAny\u001b[0m\u001b[0;34m:\u001b[0m\u001b[0;34m\u001b[0m\u001b[0;34m\u001b[0m\u001b[0m\n\u001b[1;32m    215\u001b[0m     \u001b[0;34m\"\"\"Calls with flattened tensor inputs and returns the structured output.\"\"\"\u001b[0m\u001b[0;34m\u001b[0m\u001b[0;34m\u001b[0m\u001b[0m\n\u001b[0;32m--> 216\u001b[0;31m     \u001b[0mflat_outputs\u001b[0m \u001b[0;34m=\u001b[0m \u001b[0mself\u001b[0m\u001b[0;34m.\u001b[0m\u001b[0mcall_flat\u001b[0m\u001b[0;34m(\u001b[0m\u001b[0;34m*\u001b[0m\u001b[0margs\u001b[0m\u001b[0;34m)\u001b[0m\u001b[0;34m\u001b[0m\u001b[0;34m\u001b[0m\u001b[0m\n\u001b[0m\u001b[1;32m    217\u001b[0m     \u001b[0;32mreturn\u001b[0m \u001b[0mself\u001b[0m\u001b[0;34m.\u001b[0m\u001b[0mfunction_type\u001b[0m\u001b[0;34m.\u001b[0m\u001b[0mpack_output\u001b[0m\u001b[0;34m(\u001b[0m\u001b[0mflat_outputs\u001b[0m\u001b[0;34m)\u001b[0m\u001b[0;34m\u001b[0m\u001b[0;34m\u001b[0m\u001b[0m\n\u001b[1;32m    218\u001b[0m \u001b[0;34m\u001b[0m\u001b[0m\n",
      "\u001b[0;32m/usr/local/lib/python3.10/dist-packages/tensorflow/python/eager/polymorphic_function/atomic_function.py\u001b[0m in \u001b[0;36mcall_flat\u001b[0;34m(self, *args)\u001b[0m\n\u001b[1;32m    249\u001b[0m         \u001b[0;32mwith\u001b[0m \u001b[0mrecord\u001b[0m\u001b[0;34m.\u001b[0m\u001b[0mstop_recording\u001b[0m\u001b[0;34m(\u001b[0m\u001b[0;34m)\u001b[0m\u001b[0;34m:\u001b[0m\u001b[0;34m\u001b[0m\u001b[0;34m\u001b[0m\u001b[0m\n\u001b[1;32m    250\u001b[0m           \u001b[0;32mif\u001b[0m \u001b[0mself\u001b[0m\u001b[0;34m.\u001b[0m\u001b[0m_bound_context\u001b[0m\u001b[0;34m.\u001b[0m\u001b[0mexecuting_eagerly\u001b[0m\u001b[0;34m(\u001b[0m\u001b[0;34m)\u001b[0m\u001b[0;34m:\u001b[0m\u001b[0;34m\u001b[0m\u001b[0;34m\u001b[0m\u001b[0m\n\u001b[0;32m--> 251\u001b[0;31m             outputs = self._bound_context.call_function(\n\u001b[0m\u001b[1;32m    252\u001b[0m                 \u001b[0mself\u001b[0m\u001b[0;34m.\u001b[0m\u001b[0mname\u001b[0m\u001b[0;34m,\u001b[0m\u001b[0;34m\u001b[0m\u001b[0;34m\u001b[0m\u001b[0m\n\u001b[1;32m    253\u001b[0m                 \u001b[0mlist\u001b[0m\u001b[0;34m(\u001b[0m\u001b[0margs\u001b[0m\u001b[0;34m)\u001b[0m\u001b[0;34m,\u001b[0m\u001b[0;34m\u001b[0m\u001b[0;34m\u001b[0m\u001b[0m\n",
      "\u001b[0;32m/usr/local/lib/python3.10/dist-packages/tensorflow/python/eager/context.py\u001b[0m in \u001b[0;36mcall_function\u001b[0;34m(self, name, tensor_inputs, num_outputs)\u001b[0m\n\u001b[1;32m   1484\u001b[0m     \u001b[0mcancellation_context\u001b[0m \u001b[0;34m=\u001b[0m \u001b[0mcancellation\u001b[0m\u001b[0;34m.\u001b[0m\u001b[0mcontext\u001b[0m\u001b[0;34m(\u001b[0m\u001b[0;34m)\u001b[0m\u001b[0;34m\u001b[0m\u001b[0;34m\u001b[0m\u001b[0m\n\u001b[1;32m   1485\u001b[0m     \u001b[0;32mif\u001b[0m \u001b[0mcancellation_context\u001b[0m \u001b[0;32mis\u001b[0m \u001b[0;32mNone\u001b[0m\u001b[0;34m:\u001b[0m\u001b[0;34m\u001b[0m\u001b[0;34m\u001b[0m\u001b[0m\n\u001b[0;32m-> 1486\u001b[0;31m       outputs = execute.execute(\n\u001b[0m\u001b[1;32m   1487\u001b[0m           \u001b[0mname\u001b[0m\u001b[0;34m.\u001b[0m\u001b[0mdecode\u001b[0m\u001b[0;34m(\u001b[0m\u001b[0;34m\"utf-8\"\u001b[0m\u001b[0;34m)\u001b[0m\u001b[0;34m,\u001b[0m\u001b[0;34m\u001b[0m\u001b[0;34m\u001b[0m\u001b[0m\n\u001b[1;32m   1488\u001b[0m           \u001b[0mnum_outputs\u001b[0m\u001b[0;34m=\u001b[0m\u001b[0mnum_outputs\u001b[0m\u001b[0;34m,\u001b[0m\u001b[0;34m\u001b[0m\u001b[0;34m\u001b[0m\u001b[0m\n",
      "\u001b[0;32m/usr/local/lib/python3.10/dist-packages/tensorflow/python/eager/execute.py\u001b[0m in \u001b[0;36mquick_execute\u001b[0;34m(op_name, num_outputs, inputs, attrs, ctx, name)\u001b[0m\n\u001b[1;32m     51\u001b[0m   \u001b[0;32mtry\u001b[0m\u001b[0;34m:\u001b[0m\u001b[0;34m\u001b[0m\u001b[0;34m\u001b[0m\u001b[0m\n\u001b[1;32m     52\u001b[0m     \u001b[0mctx\u001b[0m\u001b[0;34m.\u001b[0m\u001b[0mensure_initialized\u001b[0m\u001b[0;34m(\u001b[0m\u001b[0;34m)\u001b[0m\u001b[0;34m\u001b[0m\u001b[0;34m\u001b[0m\u001b[0m\n\u001b[0;32m---> 53\u001b[0;31m     tensors = pywrap_tfe.TFE_Py_Execute(ctx._handle, device_name, op_name,\n\u001b[0m\u001b[1;32m     54\u001b[0m                                         inputs, attrs, num_outputs)\n\u001b[1;32m     55\u001b[0m   \u001b[0;32mexcept\u001b[0m \u001b[0mcore\u001b[0m\u001b[0;34m.\u001b[0m\u001b[0m_NotOkStatusException\u001b[0m \u001b[0;32mas\u001b[0m \u001b[0me\u001b[0m\u001b[0;34m:\u001b[0m\u001b[0;34m\u001b[0m\u001b[0;34m\u001b[0m\u001b[0m\n",
      "\u001b[0;31mKeyboardInterrupt\u001b[0m: "
     ]
    }
   ],
   "source": [
    "history = model.fit(\n",
    "    train_generator,\n",
    "    steps_per_epoch=10,\n",
    "    epochs=epochs,\n",
    "    validation_data=validation_generator\n",
    ")\n"
   ]
  },
  {
   "cell_type": "code",
   "execution_count": null,
   "metadata": {
    "id": "tsFs3lD07KEn"
   },
   "outputs": [],
   "source": [
    "# Evaluate the model\n",
    "loss, accuracy = model.evaluate(validation_generator)\n",
    "print(f'Validation loss: {loss:.4f}, Validation accuracy: {accuracy:.4f}')\n",
    "\n",
    "# Plot training history\n",
    "plt.figure(figsize=(12, 6))\n",
    "plt.subplot(1, 2, 1)\n",
    "plt.plot(history.history['loss'], label='Training Loss')\n",
    "plt.plot(history.history['val_loss'], label='Validation Loss')\n",
    "plt.legend()\n",
    "plt.title('Loss')\n",
    "\n",
    "plt.subplot(1, 2, 2)\n",
    "plt.plot(history.history['accuracy'], label='Training Accuracy')\n",
    "plt.plot(history.history['val_accuracy'], label='Validation Accuracy')\n",
    "plt.legend()\n",
    "plt.title('Accuracy')\n",
    "\n",
    "plt.tight_layout()\n",
    "plt.show()"
   ]
  },
  {
   "cell_type": "code",
   "execution_count": null,
   "metadata": {
    "colab": {
     "base_uri": "https://localhost:8080/"
    },
    "id": "r_2NTwUdjUan",
    "outputId": "97bd56a0-b63f-4e43-8471-2cad3fa6eaea"
   },
   "outputs": [
    {
     "name": "stdout",
     "output_type": "stream",
     "text": [
      "Mounted at /content/drive\n"
     ]
    }
   ],
   "source": [
    "from google.colab import drive\n",
    "drive.mount('/content/drive')"
   ]
  },
  {
   "cell_type": "code",
   "execution_count": null,
   "metadata": {
    "id": "F9aonlNu-OtP"
   },
   "outputs": [],
   "source": []
  }
 ],
 "metadata": {
  "colab": {
   "provenance": []
  },
  "kernelspec": {
   "display_name": "Python 3 (ipykernel)",
   "language": "python",
   "name": "python3"
  },
  "language_info": {
   "codemirror_mode": {
    "name": "ipython",
    "version": 3
   },
   "file_extension": ".py",
   "mimetype": "text/x-python",
   "name": "python",
   "nbconvert_exporter": "python",
   "pygments_lexer": "ipython3",
   "version": "3.11.7"
  }
 },
 "nbformat": 4,
 "nbformat_minor": 4
}
